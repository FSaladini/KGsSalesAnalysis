{
 "cells": [
  {
   "cell_type": "markdown",
   "id": "2c838556",
   "metadata": {},
   "source": [
    "# About this Project\n",
    "\n",
    "The idea of this notebook is to follow Keith Galli's video on how to do a sales analysis as a data scientist, using mostly Python with the Pandas library\n",
    "\n",
    "- Video: https://www.youtube.com/watch?v=eMOA1pPVUc4\n",
    "- GitHub code and data: https://github.com/KeithGalli/Pandas-Data-Science-Tasks"
   ]
  },
  {
   "cell_type": "markdown",
   "id": "cecf6d0f",
   "metadata": {},
   "source": [
    "## Setting up"
   ]
  },
  {
   "cell_type": "markdown",
   "id": "2683dbb7",
   "metadata": {},
   "source": [
    "### Import Necessary Libraries"
   ]
  },
  {
   "cell_type": "code",
   "execution_count": 15,
   "id": "55ce1d9f",
   "metadata": {
    "ExecuteTime": {
     "end_time": "2022-03-13T15:01:37.449946Z",
     "start_time": "2022-03-13T15:01:37.443952Z"
    }
   },
   "outputs": [],
   "source": [
    "import pandas as pd\n",
    "import os\n",
    "import matplotlib.pyplot as plt\n",
    "from itertools import combinations\n",
    "from collections import Counter"
   ]
  },
  {
   "cell_type": "markdown",
   "id": "99a19d24",
   "metadata": {},
   "source": [
    "### Task #1: Merging 12 months of sales into a single file"
   ]
  },
  {
   "cell_type": "code",
   "execution_count": 16,
   "id": "f7a15528",
   "metadata": {
    "ExecuteTime": {
     "end_time": "2022-03-13T15:01:39.980142Z",
     "start_time": "2022-03-13T15:01:38.011983Z"
    }
   },
   "outputs": [],
   "source": [
    "# this read a csv file\n",
    "df = pd.read_csv(\"./DataSet/Sales_April_2019.csv\")\n",
    "\n",
    "# This read all the files from the list directory \n",
    "files = [file for file in os.listdir('./DataSet')]\n",
    "\n",
    "# empty data frame\n",
    "all_months_data = pd.DataFrame()\n",
    "\n",
    "# go through the files and append to the DataFrame\n",
    "for file in files:\n",
    "    df = pd.read_csv(\"./DataSet/\"+file)\n",
    "    all_months_data = pd.concat([all_months_data, df])\n",
    "\n",
    "# turn into a csv file\n",
    "all_months_data.to_csv(\"all_data.csv\", index = False)\n"
   ]
  },
  {
   "cell_type": "code",
   "execution_count": 17,
   "id": "f7a0fb74",
   "metadata": {
    "ExecuteTime": {
     "end_time": "2022-03-13T15:01:40.632366Z",
     "start_time": "2022-03-13T15:01:39.984144Z"
    }
   },
   "outputs": [],
   "source": [
    "all_data = pd.read_csv(\"./all_data.csv\")"
   ]
  },
  {
   "cell_type": "markdown",
   "id": "455c0f52",
   "metadata": {},
   "source": [
    "### Task #2: Clean up a bit of the data!"
   ]
  },
  {
   "cell_type": "code",
   "execution_count": 18,
   "id": "8793e677",
   "metadata": {
    "ExecuteTime": {
     "end_time": "2022-03-13T15:01:40.727309Z",
     "start_time": "2022-03-13T15:01:40.634367Z"
    }
   },
   "outputs": [],
   "source": [
    "# how to find the NaN lines:\n",
    "nan_df = all_data[all_data.isna().any(axis=1)]"
   ]
  },
  {
   "cell_type": "code",
   "execution_count": 19,
   "id": "7308c596",
   "metadata": {
    "ExecuteTime": {
     "end_time": "2022-03-13T15:01:40.869017Z",
     "start_time": "2022-03-13T15:01:40.731263Z"
    }
   },
   "outputs": [],
   "source": [
    "# drop NaN rows\n",
    "all_data = all_data.dropna(how='all')\n"
   ]
  },
  {
   "cell_type": "markdown",
   "id": "6e98670d",
   "metadata": {},
   "source": [
    "### Task #3: Create columns"
   ]
  },
  {
   "cell_type": "markdown",
   "id": "d359cf02",
   "metadata": {},
   "source": [
    "#### Add MonthColumn"
   ]
  },
  {
   "cell_type": "code",
   "execution_count": 20,
   "id": "b0afbf23",
   "metadata": {
    "ExecuteTime": {
     "end_time": "2022-03-13T15:01:42.447523Z",
     "start_time": "2022-03-13T15:01:42.044623Z"
    }
   },
   "outputs": [
    {
     "data": {
      "text/html": [
       "<div>\n",
       "<style scoped>\n",
       "    .dataframe tbody tr th:only-of-type {\n",
       "        vertical-align: middle;\n",
       "    }\n",
       "\n",
       "    .dataframe tbody tr th {\n",
       "        vertical-align: top;\n",
       "    }\n",
       "\n",
       "    .dataframe thead th {\n",
       "        text-align: right;\n",
       "    }\n",
       "</style>\n",
       "<table border=\"1\" class=\"dataframe\">\n",
       "  <thead>\n",
       "    <tr style=\"text-align: right;\">\n",
       "      <th></th>\n",
       "      <th>Order ID</th>\n",
       "      <th>Product</th>\n",
       "      <th>Quantity Ordered</th>\n",
       "      <th>Price Each</th>\n",
       "      <th>Order Date</th>\n",
       "      <th>Purchase Address</th>\n",
       "      <th>Month</th>\n",
       "    </tr>\n",
       "  </thead>\n",
       "  <tbody>\n",
       "    <tr>\n",
       "      <th>0</th>\n",
       "      <td>176558</td>\n",
       "      <td>USB-C Charging Cable</td>\n",
       "      <td>2</td>\n",
       "      <td>11.95</td>\n",
       "      <td>04/19/19 08:46</td>\n",
       "      <td>917 1st St, Dallas, TX 75001</td>\n",
       "      <td>4</td>\n",
       "    </tr>\n",
       "    <tr>\n",
       "      <th>2</th>\n",
       "      <td>176559</td>\n",
       "      <td>Bose SoundSport Headphones</td>\n",
       "      <td>1</td>\n",
       "      <td>99.99</td>\n",
       "      <td>04/07/19 22:30</td>\n",
       "      <td>682 Chestnut St, Boston, MA 02215</td>\n",
       "      <td>4</td>\n",
       "    </tr>\n",
       "    <tr>\n",
       "      <th>3</th>\n",
       "      <td>176560</td>\n",
       "      <td>Google Phone</td>\n",
       "      <td>1</td>\n",
       "      <td>600</td>\n",
       "      <td>04/12/19 14:38</td>\n",
       "      <td>669 Spruce St, Los Angeles, CA 90001</td>\n",
       "      <td>4</td>\n",
       "    </tr>\n",
       "    <tr>\n",
       "      <th>4</th>\n",
       "      <td>176560</td>\n",
       "      <td>Wired Headphones</td>\n",
       "      <td>1</td>\n",
       "      <td>11.99</td>\n",
       "      <td>04/12/19 14:38</td>\n",
       "      <td>669 Spruce St, Los Angeles, CA 90001</td>\n",
       "      <td>4</td>\n",
       "    </tr>\n",
       "    <tr>\n",
       "      <th>5</th>\n",
       "      <td>176561</td>\n",
       "      <td>Wired Headphones</td>\n",
       "      <td>1</td>\n",
       "      <td>11.99</td>\n",
       "      <td>04/30/19 09:27</td>\n",
       "      <td>333 8th St, Los Angeles, CA 90001</td>\n",
       "      <td>4</td>\n",
       "    </tr>\n",
       "  </tbody>\n",
       "</table>\n",
       "</div>"
      ],
      "text/plain": [
       "  Order ID                     Product Quantity Ordered Price Each  \\\n",
       "0   176558        USB-C Charging Cable                2      11.95   \n",
       "2   176559  Bose SoundSport Headphones                1      99.99   \n",
       "3   176560                Google Phone                1        600   \n",
       "4   176560            Wired Headphones                1      11.99   \n",
       "5   176561            Wired Headphones                1      11.99   \n",
       "\n",
       "       Order Date                      Purchase Address  Month  \n",
       "0  04/19/19 08:46          917 1st St, Dallas, TX 75001      4  \n",
       "2  04/07/19 22:30     682 Chestnut St, Boston, MA 02215      4  \n",
       "3  04/12/19 14:38  669 Spruce St, Los Angeles, CA 90001      4  \n",
       "4  04/12/19 14:38  669 Spruce St, Los Angeles, CA 90001      4  \n",
       "5  04/30/19 09:27     333 8th St, Los Angeles, CA 90001      4  "
      ]
     },
     "execution_count": 20,
     "metadata": {},
     "output_type": "execute_result"
    }
   ],
   "source": [
    "all_data['Month'] = all_data['Order Date'].str[0:2]\n",
    "all_data = all_data[all_data['Order Date'].str[0:2] != 'Or']\n",
    "all_data['Month'] = all_data['Month'].astype('int')"
   ]
  },
  {
   "cell_type": "markdown",
   "id": "bde19fbc",
   "metadata": {},
   "source": [
    "#### Add a sales column"
   ]
  },
  {
   "cell_type": "code",
   "execution_count": 21,
   "id": "f8726962",
   "metadata": {
    "ExecuteTime": {
     "end_time": "2022-03-13T15:01:48.401340Z",
     "start_time": "2022-03-13T15:01:48.069521Z"
    }
   },
   "outputs": [],
   "source": [
    "all_data['Price Each'] = pd.to_numeric(all_data['Price Each'])\n",
    "all_data['Quantity Ordered'] = pd.to_numeric(all_data['Quantity Ordered'])\n",
    "all_data['Sales'] = all_data['Quantity Ordered'] * all_data['Price Each']"
   ]
  },
  {
   "cell_type": "markdown",
   "id": "de175a35",
   "metadata": {},
   "source": [
    "####  Add City Column"
   ]
  },
  {
   "cell_type": "code",
   "execution_count": 24,
   "id": "abc9aac3",
   "metadata": {
    "ExecuteTime": {
     "end_time": "2022-03-13T15:07:48.515133Z",
     "start_time": "2022-03-13T15:07:48.003426Z"
    },
    "scrolled": true
   },
   "outputs": [],
   "source": [
    "# using the .apply() method\n",
    "# all_data['City Name'] = all_data['Purchase Address'].apply(lambda x: x.split(',')[1])\n",
    "# all_data['State'] = all_data['Purchase Address'].apply(lambda x: x.split(',')[2])\n",
    "# all_data['State'] = all_data['State'].apply(lambda x: x.split(' ')[1])\n",
    "# \n",
    "# all_data['City'] = all_data['City Name'] + \" - \" + all_data['State']\n",
    "# all_data = all_data.drop(columns='City Name')\n",
    "# all_data = all_data.drop(columns='State')\n",
    "\n",
    "def get_city(address):\n",
    "    return address.split(',')[1]\n",
    "\n",
    "def get_state(address):\n",
    "    return address.split(',')[2].split(' ')[1]\n",
    "\n",
    "all_data['City'] = all_data['Purchase Address'].apply(lambda x: get_city(x) + ' (' + get_state(x) + ')')"
   ]
  },
  {
   "cell_type": "markdown",
   "id": "3985df14",
   "metadata": {},
   "source": [
    "## Answering Questions"
   ]
  },
  {
   "cell_type": "markdown",
   "id": "adf703f3",
   "metadata": {},
   "source": [
    "### Question 1: What is the best month for sales? How much was earned in that month?"
   ]
  },
  {
   "cell_type": "code",
   "execution_count": 25,
   "id": "e25672c4",
   "metadata": {
    "ExecuteTime": {
     "end_time": "2022-03-13T15:07:50.313222Z",
     "start_time": "2022-03-13T15:07:50.219262Z"
    }
   },
   "outputs": [],
   "source": [
    "# How to join and sum the values by month\n",
    "\n",
    "results = all_data.groupby('Month').sum()"
   ]
  },
  {
   "cell_type": "code",
   "execution_count": 26,
   "id": "fbbaa89a",
   "metadata": {
    "ExecuteTime": {
     "end_time": "2022-03-13T15:07:51.711231Z",
     "start_time": "2022-03-13T15:07:51.435399Z"
    }
   },
   "outputs": [
    {
     "data": {
      "image/png": "[encoded data removed]",
      "text/plain": [
       "<Figure size 432x288 with 1 Axes>"
      ]
     },
     "metadata": {
      "needs_background": "light"
     },
     "output_type": "display_data"
    }
   ],
   "source": [
    "# creating a list for 1 through 12. \n",
    "# If I did a code like 'months = all_data.Month.unique()' \n",
    "# it would be all off order, and ordering it would do more trouble than good\n",
    "months = range(1,13)\n",
    "\n",
    "# Very simple barplot from matplotlib so we can see that the months with a greater value in sales\n",
    "# are October and December\n",
    "plt.bar(months, results['Sales'])\n",
    "plt.xticks(months)\n",
    "plt.ylabel('Sales in Milion of USD')\n",
    "plt.xlabel('Month')\n",
    "plt.show()"
   ]
  },
  {
   "cell_type": "markdown",
   "id": "e038897d",
   "metadata": {},
   "source": [
    "### Question 2: What US City had the highest number of sales"
   ]
  },
  {
   "cell_type": "code",
   "execution_count": 27,
   "id": "62af5288",
   "metadata": {
    "ExecuteTime": {
     "end_time": "2022-03-13T15:07:54.785228Z",
     "start_time": "2022-03-13T15:07:54.685290Z"
    },
    "scrolled": true
   },
   "outputs": [
    {
     "data": {
      "text/html": [
       "<div>\n",
       "<style scoped>\n",
       "    .dataframe tbody tr th:only-of-type {\n",
       "        vertical-align: middle;\n",
       "    }\n",
       "\n",
       "    .dataframe tbody tr th {\n",
       "        vertical-align: top;\n",
       "    }\n",
       "\n",
       "    .dataframe thead th {\n",
       "        text-align: right;\n",
       "    }\n",
       "</style>\n",
       "<table border=\"1\" class=\"dataframe\">\n",
       "  <thead>\n",
       "    <tr style=\"text-align: right;\">\n",
       "      <th></th>\n",
       "      <th>Quantity Ordered</th>\n",
       "      <th>Price Each</th>\n",
       "      <th>Month</th>\n",
       "      <th>Sales</th>\n",
       "    </tr>\n",
       "    <tr>\n",
       "      <th>City</th>\n",
       "      <th></th>\n",
       "      <th></th>\n",
       "      <th></th>\n",
       "      <th></th>\n",
       "    </tr>\n",
       "  </thead>\n",
       "  <tbody>\n",
       "    <tr>\n",
       "      <th>Atlanta (GA)</th>\n",
       "      <td>16602</td>\n",
       "      <td>2779908.20</td>\n",
       "      <td>104794</td>\n",
       "      <td>2795498.58</td>\n",
       "    </tr>\n",
       "    <tr>\n",
       "      <th>Austin (TX)</th>\n",
       "      <td>11153</td>\n",
       "      <td>1809873.61</td>\n",
       "      <td>69829</td>\n",
       "      <td>1819581.75</td>\n",
       "    </tr>\n",
       "    <tr>\n",
       "      <th>Boston (MA)</th>\n",
       "      <td>22528</td>\n",
       "      <td>3637409.77</td>\n",
       "      <td>141112</td>\n",
       "      <td>3661642.01</td>\n",
       "    </tr>\n",
       "    <tr>\n",
       "      <th>Dallas (TX)</th>\n",
       "      <td>16730</td>\n",
       "      <td>2752627.82</td>\n",
       "      <td>104620</td>\n",
       "      <td>2767975.40</td>\n",
       "    </tr>\n",
       "    <tr>\n",
       "      <th>Los Angeles (CA)</th>\n",
       "      <td>33289</td>\n",
       "      <td>5421435.23</td>\n",
       "      <td>208325</td>\n",
       "      <td>5452570.80</td>\n",
       "    </tr>\n",
       "    <tr>\n",
       "      <th>New York City (NY)</th>\n",
       "      <td>27932</td>\n",
       "      <td>4635370.83</td>\n",
       "      <td>175741</td>\n",
       "      <td>4664317.43</td>\n",
       "    </tr>\n",
       "    <tr>\n",
       "      <th>Portland (ME)</th>\n",
       "      <td>2750</td>\n",
       "      <td>447189.25</td>\n",
       "      <td>17144</td>\n",
       "      <td>449758.27</td>\n",
       "    </tr>\n",
       "    <tr>\n",
       "      <th>Portland (OR)</th>\n",
       "      <td>11303</td>\n",
       "      <td>1860558.22</td>\n",
       "      <td>70621</td>\n",
       "      <td>1870732.34</td>\n",
       "    </tr>\n",
       "    <tr>\n",
       "      <th>San Francisco (CA)</th>\n",
       "      <td>50239</td>\n",
       "      <td>8211461.74</td>\n",
       "      <td>315520</td>\n",
       "      <td>8262203.91</td>\n",
       "    </tr>\n",
       "    <tr>\n",
       "      <th>Seattle (WA)</th>\n",
       "      <td>16553</td>\n",
       "      <td>2733296.01</td>\n",
       "      <td>104941</td>\n",
       "      <td>2747755.48</td>\n",
       "    </tr>\n",
       "  </tbody>\n",
       "</table>\n",
       "</div>"
      ],
      "text/plain": [
       "                     Quantity Ordered  Price Each   Month       Sales\n",
       "City                                                                 \n",
       " Atlanta (GA)                   16602  2779908.20  104794  2795498.58\n",
       " Austin (TX)                    11153  1809873.61   69829  1819581.75\n",
       " Boston (MA)                    22528  3637409.77  141112  3661642.01\n",
       " Dallas (TX)                    16730  2752627.82  104620  2767975.40\n",
       " Los Angeles (CA)               33289  5421435.23  208325  5452570.80\n",
       " New York City (NY)             27932  4635370.83  175741  4664317.43\n",
       " Portland (ME)                   2750   447189.25   17144   449758.27\n",
       " Portland (OR)                  11303  1860558.22   70621  1870732.34\n",
       " San Francisco (CA)             50239  8211461.74  315520  8262203.91\n",
       " Seattle (WA)                   16553  2733296.01  104941  2747755.48"
      ]
     },
     "execution_count": 27,
     "metadata": {},
     "output_type": "execute_result"
    }
   ],
   "source": [
    "# Same principle here than before, we group by city just to have the values for sales\n",
    "results = all_data.groupby('City').sum()\n",
    "results"
   ]
  },
  {
   "cell_type": "code",
   "execution_count": 29,
   "id": "9fd0722c",
   "metadata": {
    "ExecuteTime": {
     "end_time": "2022-03-13T15:10:05.746324Z",
     "start_time": "2022-03-13T15:10:05.171033Z"
    }
   },
   "outputs": [
    {
     "data": {
      "image/png": "[encoded data removed]",
      "text/plain": [
       "<Figure size 432x288 with 1 Axes>"
      ]
     },
     "metadata": {
      "needs_background": "light"
     },
     "output_type": "display_data"
    }
   ],
   "source": [
    "# This is a way of ordering the actual cities with their own bar in the chart\n",
    "cities = [city for city, df in all_data.groupby('City')]\n",
    "\n",
    "# plotting the bar chart and realizing the city that purchased the most was San Francisco (CA)\n",
    "# we can also see that cities with more citzens tend to spend the most\n",
    "plt.bar(cities, results['Sales'])\n",
    "plt.xticks(cities, rotation = 'vertical')\n",
    "plt.ylabel('Sales in Milion of USD')\n",
    "plt.xlabel('City')\n",
    "plt.show()"
   ]
  },
  {
   "cell_type": "markdown",
   "id": "d63002ce",
   "metadata": {},
   "source": [
    "### Question 3: What time should we display advertisement to maximize likelihood of costumer's buying product?"
   ]
  },
  {
   "cell_type": "code",
   "execution_count": 30,
   "id": "b22e4547",
   "metadata": {
    "ExecuteTime": {
     "end_time": "2022-03-13T15:11:52.308630Z",
     "start_time": "2022-03-13T15:10:47.164745Z"
    }
   },
   "outputs": [],
   "source": [
    "# Creating column time of purchase using datetime formating\n",
    "all_data['Order Date'] = pd.to_datetime(all_data['Order Date'])"
   ]
  },
  {
   "cell_type": "code",
   "execution_count": 32,
   "id": "a5dc4f39",
   "metadata": {
    "ExecuteTime": {
     "end_time": "2022-03-13T15:13:40.424489Z",
     "start_time": "2022-03-13T15:13:40.357344Z"
    }
   },
   "outputs": [],
   "source": [
    "# Creating the columns for hour and minutes\n",
    "all_data['Hour'] = all_data['Order Date'].dt.hour\n",
    "all_data['Minute'] = all_data['Order Date'].dt.minute"
   ]
  },
  {
   "cell_type": "code",
   "execution_count": 45,
   "id": "2817fc7f",
   "metadata": {
    "ExecuteTime": {
     "end_time": "2022-03-12T12:49:33.626782Z",
     "start_time": "2022-03-12T12:49:33.542837Z"
    }
   },
   "outputs": [
    {
     "data": {
      "text/html": [
       "<div>\n",
       "<style scoped>\n",
       "    .dataframe tbody tr th:only-of-type {\n",
       "        vertical-align: middle;\n",
       "    }\n",
       "\n",
       "    .dataframe tbody tr th {\n",
       "        vertical-align: top;\n",
       "    }\n",
       "\n",
       "    .dataframe thead th {\n",
       "        text-align: right;\n",
       "    }\n",
       "</style>\n",
       "<table border=\"1\" class=\"dataframe\">\n",
       "  <thead>\n",
       "    <tr style=\"text-align: right;\">\n",
       "      <th></th>\n",
       "      <th>Quantity Ordered</th>\n",
       "      <th>Price Each</th>\n",
       "      <th>Month</th>\n",
       "      <th>Sales</th>\n",
       "      <th>Minute</th>\n",
       "    </tr>\n",
       "    <tr>\n",
       "      <th>Hour</th>\n",
       "      <th></th>\n",
       "      <th></th>\n",
       "      <th></th>\n",
       "      <th></th>\n",
       "      <th></th>\n",
       "    </tr>\n",
       "  </thead>\n",
       "  <tbody>\n",
       "    <tr>\n",
       "      <th>0</th>\n",
       "      <td>4428</td>\n",
       "      <td>709296.70</td>\n",
       "      <td>27554</td>\n",
       "      <td>713721.27</td>\n",
       "      <td>103596</td>\n",
       "    </tr>\n",
       "    <tr>\n",
       "      <th>1</th>\n",
       "      <td>2619</td>\n",
       "      <td>458490.00</td>\n",
       "      <td>16657</td>\n",
       "      <td>460866.88</td>\n",
       "      <td>61807</td>\n",
       "    </tr>\n",
       "    <tr>\n",
       "      <th>2</th>\n",
       "      <td>1398</td>\n",
       "      <td>233833.64</td>\n",
       "      <td>8507</td>\n",
       "      <td>234851.44</td>\n",
       "      <td>32508</td>\n",
       "    </tr>\n",
       "    <tr>\n",
       "      <th>3</th>\n",
       "      <td>928</td>\n",
       "      <td>144726.42</td>\n",
       "      <td>5904</td>\n",
       "      <td>145757.89</td>\n",
       "      <td>23044</td>\n",
       "    </tr>\n",
       "    <tr>\n",
       "      <th>4</th>\n",
       "      <td>937</td>\n",
       "      <td>162058.18</td>\n",
       "      <td>6148</td>\n",
       "      <td>162661.01</td>\n",
       "      <td>26876</td>\n",
       "    </tr>\n",
       "    <tr>\n",
       "      <th>5</th>\n",
       "      <td>1493</td>\n",
       "      <td>229621.21</td>\n",
       "      <td>9301</td>\n",
       "      <td>230679.82</td>\n",
       "      <td>42877</td>\n",
       "    </tr>\n",
       "    <tr>\n",
       "      <th>6</th>\n",
       "      <td>2810</td>\n",
       "      <td>445000.11</td>\n",
       "      <td>17539</td>\n",
       "      <td>448113.00</td>\n",
       "      <td>80343</td>\n",
       "    </tr>\n",
       "    <tr>\n",
       "      <th>7</th>\n",
       "      <td>4556</td>\n",
       "      <td>740568.11</td>\n",
       "      <td>28850</td>\n",
       "      <td>744854.12</td>\n",
       "      <td>127447</td>\n",
       "    </tr>\n",
       "    <tr>\n",
       "      <th>8</th>\n",
       "      <td>7002</td>\n",
       "      <td>1185970.62</td>\n",
       "      <td>43626</td>\n",
       "      <td>1192348.97</td>\n",
       "      <td>198135</td>\n",
       "    </tr>\n",
       "    <tr>\n",
       "      <th>9</th>\n",
       "      <td>9816</td>\n",
       "      <td>1628498.49</td>\n",
       "      <td>60981</td>\n",
       "      <td>1639030.58</td>\n",
       "      <td>268253</td>\n",
       "    </tr>\n",
       "    <tr>\n",
       "      <th>10</th>\n",
       "      <td>12308</td>\n",
       "      <td>1932665.62</td>\n",
       "      <td>76928</td>\n",
       "      <td>1944286.77</td>\n",
       "      <td>331941</td>\n",
       "    </tr>\n",
       "    <tr>\n",
       "      <th>11</th>\n",
       "      <td>14005</td>\n",
       "      <td>2288855.18</td>\n",
       "      <td>87654</td>\n",
       "      <td>2300610.24</td>\n",
       "      <td>368952</td>\n",
       "    </tr>\n",
       "    <tr>\n",
       "      <th>12</th>\n",
       "      <td>14202</td>\n",
       "      <td>2299876.68</td>\n",
       "      <td>89161</td>\n",
       "      <td>2316821.34</td>\n",
       "      <td>368679</td>\n",
       "    </tr>\n",
       "    <tr>\n",
       "      <th>13</th>\n",
       "      <td>13685</td>\n",
       "      <td>2139743.86</td>\n",
       "      <td>85808</td>\n",
       "      <td>2155389.80</td>\n",
       "      <td>351045</td>\n",
       "    </tr>\n",
       "    <tr>\n",
       "      <th>14</th>\n",
       "      <td>12362</td>\n",
       "      <td>2072194.77</td>\n",
       "      <td>77836</td>\n",
       "      <td>2083672.73</td>\n",
       "      <td>322563</td>\n",
       "    </tr>\n",
       "    <tr>\n",
       "      <th>15</th>\n",
       "      <td>11391</td>\n",
       "      <td>1931174.99</td>\n",
       "      <td>72060</td>\n",
       "      <td>1941549.60</td>\n",
       "      <td>299893</td>\n",
       "    </tr>\n",
       "    <tr>\n",
       "      <th>16</th>\n",
       "      <td>11662</td>\n",
       "      <td>1892454.54</td>\n",
       "      <td>72939</td>\n",
       "      <td>1904601.31</td>\n",
       "      <td>310132</td>\n",
       "    </tr>\n",
       "    <tr>\n",
       "      <th>17</th>\n",
       "      <td>12229</td>\n",
       "      <td>2116777.02</td>\n",
       "      <td>77454</td>\n",
       "      <td>2129361.61</td>\n",
       "      <td>323428</td>\n",
       "    </tr>\n",
       "    <tr>\n",
       "      <th>18</th>\n",
       "      <td>13802</td>\n",
       "      <td>2207696.93</td>\n",
       "      <td>86421</td>\n",
       "      <td>2219348.30</td>\n",
       "      <td>371688</td>\n",
       "    </tr>\n",
       "    <tr>\n",
       "      <th>19</th>\n",
       "      <td>14470</td>\n",
       "      <td>2398588.31</td>\n",
       "      <td>91389</td>\n",
       "      <td>2412938.54</td>\n",
       "      <td>381042</td>\n",
       "    </tr>\n",
       "    <tr>\n",
       "      <th>20</th>\n",
       "      <td>13768</td>\n",
       "      <td>2268185.16</td>\n",
       "      <td>86375</td>\n",
       "      <td>2281716.24</td>\n",
       "      <td>354086</td>\n",
       "    </tr>\n",
       "    <tr>\n",
       "      <th>21</th>\n",
       "      <td>12244</td>\n",
       "      <td>2030763.83</td>\n",
       "      <td>77103</td>\n",
       "      <td>2042000.86</td>\n",
       "      <td>312062</td>\n",
       "    </tr>\n",
       "    <tr>\n",
       "      <th>22</th>\n",
       "      <td>9899</td>\n",
       "      <td>1599464.44</td>\n",
       "      <td>62088</td>\n",
       "      <td>1607549.21</td>\n",
       "      <td>248503</td>\n",
       "    </tr>\n",
       "    <tr>\n",
       "      <th>23</th>\n",
       "      <td>7065</td>\n",
       "      <td>1172625.87</td>\n",
       "      <td>44364</td>\n",
       "      <td>1179304.44</td>\n",
       "      <td>173159</td>\n",
       "    </tr>\n",
       "  </tbody>\n",
       "</table>\n",
       "</div>"
      ],
      "text/plain": [
       "      Quantity Ordered  Price Each  Month       Sales  Minute\n",
       "Hour                                                         \n",
       "0                 4428   709296.70  27554   713721.27  103596\n",
       "1                 2619   458490.00  16657   460866.88   61807\n",
       "2                 1398   233833.64   8507   234851.44   32508\n",
       "3                  928   144726.42   5904   145757.89   23044\n",
       "4                  937   162058.18   6148   162661.01   26876\n",
       "5                 1493   229621.21   9301   230679.82   42877\n",
       "6                 2810   445000.11  17539   448113.00   80343\n",
       "7                 4556   740568.11  28850   744854.12  127447\n",
       "8                 7002  1185970.62  43626  1192348.97  198135\n",
       "9                 9816  1628498.49  60981  1639030.58  268253\n",
       "10               12308  1932665.62  76928  1944286.77  331941\n",
       "11               14005  2288855.18  87654  2300610.24  368952\n",
       "12               14202  2299876.68  89161  2316821.34  368679\n",
       "13               13685  2139743.86  85808  2155389.80  351045\n",
       "14               12362  2072194.77  77836  2083672.73  322563\n",
       "15               11391  1931174.99  72060  1941549.60  299893\n",
       "16               11662  1892454.54  72939  1904601.31  310132\n",
       "17               12229  2116777.02  77454  2129361.61  323428\n",
       "18               13802  2207696.93  86421  2219348.30  371688\n",
       "19               14470  2398588.31  91389  2412938.54  381042\n",
       "20               13768  2268185.16  86375  2281716.24  354086\n",
       "21               12244  2030763.83  77103  2042000.86  312062\n",
       "22                9899  1599464.44  62088  1607549.21  248503\n",
       "23                7065  1172625.87  44364  1179304.44  173159"
      ]
     },
     "execution_count": 45,
     "metadata": {},
     "output_type": "execute_result"
    }
   ],
   "source": [
    "# Grouping by hour to see when there are more sales\n",
    "results = all_data.groupby('Hour').sum()\n",
    "print(results)"
   ]
  },
  {
   "cell_type": "code",
   "execution_count": 33,
   "id": "2473f122",
   "metadata": {
    "ExecuteTime": {
     "end_time": "2022-03-13T15:16:13.757936Z",
     "start_time": "2022-03-13T15:16:13.064011Z"
    }
   },
   "outputs": [
    {
     "data": {
      "image/png": "[encoded data removed]",
      "text/plain": [
       "<Figure size 432x288 with 1 Axes>"
      ]
     },
     "metadata": {
      "needs_background": "light"
     },
     "output_type": "display_data"
    }
   ],
   "source": [
    "# Same thing here than in the cities, matching the hour with the value\n",
    "hours = [hour for hour, df in all_data.groupby('Hour')]\n",
    "\n",
    "# plot a line graph\n",
    "plt.plot(hours, all_data.groupby(['Hour']).count())\n",
    "plt.xticks(hours)\n",
    "plt.grid()\n",
    "plt.show()\n",
    "\n",
    "# As we can see, there are two peaks of sales (in $, not in amount of purchases)\n",
    "# Therefore, we recomendation to advertise around 11AM or 19PM"
   ]
  },
  {
   "cell_type": "markdown",
   "id": "b98d6e38",
   "metadata": {},
   "source": [
    "### Question 4: What products are most often sold together"
   ]
  },
  {
   "cell_type": "code",
   "execution_count": 34,
   "id": "900e2681",
   "metadata": {
    "ExecuteTime": {
     "end_time": "2022-03-13T15:18:05.534599Z",
     "start_time": "2022-03-13T15:18:02.747445Z"
    }
   },
   "outputs": [
    {
     "name": "stderr",
     "output_type": "stream",
     "text": [
      "C:\\Users\\filip\\AppData\\Local\\Temp/ipykernel_5604/2335584725.py:5: SettingWithCopyWarning: \n",
      "A value is trying to be set on a copy of a slice from a DataFrame.\n",
      "Try using .loc[row_indexer,col_indexer] = value instead\n",
      "\n",
      "See the caveats in the documentation: https://pandas.pydata.org/pandas-docs/stable/user_guide/indexing.html#returning-a-view-versus-a-copy\n",
      "  df['Grouped'] = df.groupby('Order ID')['Product'].transform(lambda x: ','.join(x))\n"
     ]
    },
    {
     "data": {
      "text/html": [
       "<div>\n",
       "<style scoped>\n",
       "    .dataframe tbody tr th:only-of-type {\n",
       "        vertical-align: middle;\n",
       "    }\n",
       "\n",
       "    .dataframe tbody tr th {\n",
       "        vertical-align: top;\n",
       "    }\n",
       "\n",
       "    .dataframe thead th {\n",
       "        text-align: right;\n",
       "    }\n",
       "</style>\n",
       "<table border=\"1\" class=\"dataframe\">\n",
       "  <thead>\n",
       "    <tr style=\"text-align: right;\">\n",
       "      <th></th>\n",
       "      <th>Order ID</th>\n",
       "      <th>Grouped</th>\n",
       "    </tr>\n",
       "  </thead>\n",
       "  <tbody>\n",
       "    <tr>\n",
       "      <th>3</th>\n",
       "      <td>176560</td>\n",
       "      <td>Google Phone,Wired Headphones</td>\n",
       "    </tr>\n",
       "    <tr>\n",
       "      <th>18</th>\n",
       "      <td>176574</td>\n",
       "      <td>Google Phone,USB-C Charging Cable</td>\n",
       "    </tr>\n",
       "    <tr>\n",
       "      <th>30</th>\n",
       "      <td>176585</td>\n",
       "      <td>Bose SoundSport Headphones,Bose SoundSport Hea...</td>\n",
       "    </tr>\n",
       "    <tr>\n",
       "      <th>32</th>\n",
       "      <td>176586</td>\n",
       "      <td>AAA Batteries (4-pack),Google Phone</td>\n",
       "    </tr>\n",
       "    <tr>\n",
       "      <th>119</th>\n",
       "      <td>176672</td>\n",
       "      <td>Lightning Charging Cable,USB-C Charging Cable</td>\n",
       "    </tr>\n",
       "  </tbody>\n",
       "</table>\n",
       "</div>"
      ],
      "text/plain": [
       "    Order ID                                            Grouped\n",
       "3     176560                      Google Phone,Wired Headphones\n",
       "18    176574                  Google Phone,USB-C Charging Cable\n",
       "30    176585  Bose SoundSport Headphones,Bose SoundSport Hea...\n",
       "32    176586                AAA Batteries (4-pack),Google Phone\n",
       "119   176672      Lightning Charging Cable,USB-C Charging Cable"
      ]
     },
     "execution_count": 34,
     "metadata": {},
     "output_type": "execute_result"
    }
   ],
   "source": [
    "# creating new df with only orders with more than one product\n",
    "df = all_data[all_data['Order ID'].duplicated(keep = False)]\n",
    "\n",
    "# creating a new column with the complete order combined\n",
    "df['Grouped'] = df.groupby('Order ID')['Product'].transform(lambda x: ','.join(x))\n",
    "\n",
    "# dropping duplicates, now that the combined column is created\n",
    "df = df[['Order ID', 'Grouped']].drop_duplicates()\n",
    "\n",
    "\n",
    "df.head()"
   ]
  },
  {
   "cell_type": "code",
   "execution_count": 36,
   "id": "f45e329f",
   "metadata": {
    "ExecuteTime": {
     "end_time": "2022-03-13T15:19:36.583447Z",
     "start_time": "2022-03-13T15:19:36.466522Z"
    }
   },
   "outputs": [
    {
     "name": "stdout",
     "output_type": "stream",
     "text": [
      "('iPhone', 'Lightning Charging Cable') 1005\n",
      "('Google Phone', 'USB-C Charging Cable') 987\n",
      "('iPhone', 'Wired Headphones') 447\n",
      "('Google Phone', 'Wired Headphones') 414\n",
      "('Vareebadd Phone', 'USB-C Charging Cable') 361\n",
      "('iPhone', 'Apple Airpods Headphones') 360\n",
      "('Google Phone', 'Bose SoundSport Headphones') 220\n",
      "('USB-C Charging Cable', 'Wired Headphones') 160\n",
      "('Vareebadd Phone', 'Wired Headphones') 143\n",
      "('Lightning Charging Cable', 'Wired Headphones') 92\n"
     ]
    }
   ],
   "source": [
    "# here we creat a counter\n",
    "count = Counter()\n",
    "\n",
    "# Here we count the combinations, using a coma as a divider\n",
    "for row in df['Grouped']:\n",
    "    row_list = row.split(',')\n",
    "    count.update(Counter(combinations(row_list, 2)))\n",
    "\n",
    "# Here we print the most common combos\n",
    "for key, value in count.most_common(10):\n",
    "    print(key, value)\n",
    "    \n",
    "# As we can see, the 2 most common combos are phones with charging cables"
   ]
  },
  {
   "cell_type": "markdown",
   "id": "26184961",
   "metadata": {},
   "source": [
    "### Question 5: What product sold the most? Why?"
   ]
  },
  {
   "cell_type": "code",
   "execution_count": 39,
   "id": "71aae658",
   "metadata": {
    "ExecuteTime": {
     "end_time": "2022-03-13T15:28:27.465499Z",
     "start_time": "2022-03-13T15:28:27.324586Z"
    }
   },
   "outputs": [
    {
     "data": {
      "text/plain": [
       "Product\n",
       "20in Monitor                   4129\n",
       "27in 4K Gaming Monitor         6244\n",
       "27in FHD Monitor               7550\n",
       "34in Ultrawide Monitor         6199\n",
       "AA Batteries (4-pack)         27635\n",
       "AAA Batteries (4-pack)        31017\n",
       "Apple Airpods Headphones      15661\n",
       "Bose SoundSport Headphones    13457\n",
       "Flatscreen TV                  4819\n",
       "Google Phone                   5532\n",
       "LG Dryer                        646\n",
       "LG Washing Machine              666\n",
       "Lightning Charging Cable      23217\n",
       "Macbook Pro Laptop             4728\n",
       "ThinkPad Laptop                4130\n",
       "USB-C Charging Cable          23975\n",
       "Vareebadd Phone                2068\n",
       "Wired Headphones              20557\n",
       "iPhone                         6849\n",
       "Name: Quantity Ordered, dtype: int64"
      ]
     },
     "execution_count": 39,
     "metadata": {},
     "output_type": "execute_result"
    }
   ],
   "source": [
    "# Pretty simple grouping by product showing only the quantity ordered\n",
    "product_group = all_data.groupby('Product')\n",
    "quantity_ordered = product_group.sum()['Quantity Ordered']\n",
    "quantity_ordered"
   ]
  },
  {
   "cell_type": "code",
   "execution_count": 40,
   "id": "7ab84aea",
   "metadata": {
    "ExecuteTime": {
     "end_time": "2022-03-13T15:28:29.144988Z",
     "start_time": "2022-03-13T15:28:28.535370Z"
    }
   },
   "outputs": [
    {
     "data": {
      "image/png": "[encoded data removed]",
      "text/plain": [
       "<Figure size 432x288 with 1 Axes>"
      ]
     },
     "metadata": {
      "needs_background": "light"
     },
     "output_type": "display_data"
    }
   ],
   "source": [
    "# matching product to amount\n",
    "products = [product for product, df in all_data.groupby('Product')]\n",
    "\n",
    "# plotting bar chart\n",
    "plt.bar(products, quantity_ordered)\n",
    "plt.xticks(products, rotation = 'vertical')\n",
    "plt.ylabel('N° of sales')\n",
    "plt.xlabel('Product')\n",
    "plt.show()\n",
    "\n",
    "# realizing the most commonly sold itens are AAA and AA Bateries\n",
    "# followed by charging cables and wired headphones"
   ]
  },
  {
   "cell_type": "code",
   "execution_count": 41,
   "id": "8d2dbe99",
   "metadata": {
    "ExecuteTime": {
     "end_time": "2022-03-13T15:28:29.941483Z",
     "start_time": "2022-03-13T15:28:29.847028Z"
    }
   },
   "outputs": [
    {
     "data": {
      "text/plain": [
       "Product\n",
       "20in Monitor                   109.99\n",
       "27in 4K Gaming Monitor         389.99\n",
       "27in FHD Monitor               149.99\n",
       "34in Ultrawide Monitor         379.99\n",
       "AA Batteries (4-pack)            3.84\n",
       "AAA Batteries (4-pack)           2.99\n",
       "Apple Airpods Headphones       150.00\n",
       "Bose SoundSport Headphones      99.99\n",
       "Flatscreen TV                  300.00\n",
       "Google Phone                   600.00\n",
       "LG Dryer                       600.00\n",
       "LG Washing Machine             600.00\n",
       "Lightning Charging Cable        14.95\n",
       "Macbook Pro Laptop            1700.00\n",
       "ThinkPad Laptop                999.99\n",
       "USB-C Charging Cable            11.95\n",
       "Vareebadd Phone                400.00\n",
       "Wired Headphones                11.99\n",
       "iPhone                         700.00\n",
       "Name: Price Each, dtype: float64"
      ]
     },
     "execution_count": 41,
     "metadata": {},
     "output_type": "execute_result"
    }
   ],
   "source": [
    "# Now we think, maybe the most sold itens are the cheapest ones\n",
    "# so we check it, seing their prices\n",
    "prices = all_data.groupby('Product').mean()['Price Each']\n",
    "prices"
   ]
  },
  {
   "cell_type": "code",
   "execution_count": 42,
   "id": "162a4025",
   "metadata": {
    "ExecuteTime": {
     "end_time": "2022-03-13T15:28:32.312140Z",
     "start_time": "2022-03-13T15:28:31.290354Z"
    }
   },
   "outputs": [
    {
     "name": "stderr",
     "output_type": "stream",
     "text": [
      "C:\\Users\\filip\\AppData\\Local\\Temp/ipykernel_5604/2473478140.py:18: UserWarning: FixedFormatter should only be used together with FixedLocator\n",
      "  ax1.set_xticklabels(products, rotation = 'vertical')\n"
     ]
    },
    {
     "data": {
      "image/png": "[encoded data removed]",
      "text/plain": [
       "<Figure size 432x288 with 2 Axes>"
      ]
     },
     "metadata": {
      "needs_background": "light"
     },
     "output_type": "display_data"
    }
   ],
   "source": [
    "# now we plot a new line chart in the bar chart to see if there's a resemblance \n",
    "\n",
    "products = [product for product, df in all_data.groupby('Product')]\n",
    "prices = all_data.groupby('Product').mean()['Price Each']\n",
    "\n",
    "# Here we're using matplotlib's subplots\n",
    "fig, ax1 = plt.subplots()\n",
    "\n",
    "# creating both graphs\n",
    "ax2 = ax1.twinx()\n",
    "ax1.bar(products, quantity_ordered, color = 'g')\n",
    "ax2.plot(products, prices, 'b-')\n",
    "\n",
    "# setting parameters\n",
    "ax1.set_xlabel('Product Name')\n",
    "ax1.set_ylabel('Quantity Ordered', color = 'g')\n",
    "ax2.set_ylabel('Individual Price', color = 'b')\n",
    "ax1.set_xticklabels(products, rotation = 'vertical')\n",
    "\n",
    "plt.show()\n",
    "\n",
    "# And yes, there are some influence, the most sold itens are all very cheap\n",
    "# But there also are expensive ones that are selling well\n",
    "# Therefore there is a connection, but it is not a rule "
   ]
  },
  {
   "cell_type": "code",
   "execution_count": null,
   "id": "4ce3f195",
   "metadata": {},
   "outputs": [],
   "source": []
  }
 ],
 "metadata": {
  "kernelspec": {
   "display_name": "Python 3 (ipykernel)",
   "language": "python",
   "name": "python3"
  },
  "language_info": {
   "codemirror_mode": {
    "name": "ipython",
    "version": 3
   },
   "file_extension": ".py",
   "mimetype": "text/x-python",
   "name": "python",
   "nbconvert_exporter": "python",
   "pygments_lexer": "ipython3",
   "version": "3.8.12"
  }
 },
 "nbformat": 4,
 "nbformat_minor": 5
}
